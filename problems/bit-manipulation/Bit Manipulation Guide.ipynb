{
 "cells": [
  {
   "cell_type": "markdown",
   "id": "9c7a05c5",
   "metadata": {},
   "source": [
    "AND: (&) \n",
    "OR: (|) \n",
    "NOT: (~) \n",
    "XOR: (^)"
   ]
  },
  {
   "cell_type": "markdown",
   "id": "0cb17861",
   "metadata": {},
   "source": [
    "(1) bit length\n",
    "(2) binary representation of a bit\n",
    "(3) integer representation of a bit from a string"
   ]
  },
  {
   "cell_type": "code",
   "execution_count": 1,
   "id": "8f6ef011",
   "metadata": {},
   "outputs": [
    {
     "name": "stdout",
     "output_type": "stream",
     "text": [
      "7\n",
      "0b1100111\n"
     ]
    },
    {
     "data": {
      "text/plain": [
       "103"
      ]
     },
     "execution_count": 1,
     "metadata": {},
     "output_type": "execute_result"
    }
   ],
   "source": [
    "# get the bit length\n",
    "print((103).bit_length())\n",
    "\n",
    "# get binary representation of an integer\n",
    "print(bin(103))\n",
    "\n",
    "# integer representation of a bit from a string\n",
    "int(\"1100111\", 2)"
   ]
  },
  {
   "cell_type": "code",
   "execution_count": 2,
   "id": "3185a012",
   "metadata": {},
   "outputs": [],
   "source": [
    "from bitHelper import pb"
   ]
  },
  {
   "cell_type": "markdown",
   "id": "3feb21fa",
   "metadata": {},
   "source": [
    "Manipulating the bits of a number\n",
    "\n",
    "1. set the xth bit\n",
    "2. flip the xth bit\n",
    "3. clear the xth bit"
   ]
  },
  {
   "cell_type": "code",
   "execution_count": 3,
   "id": "ec6e2c5b",
   "metadata": {},
   "outputs": [
    {
     "name": "stdout",
     "output_type": "stream",
     "text": [
      "0b1101111\n",
      "-0b1001\n"
     ]
    }
   ],
   "source": [
    "# Example\n",
    "x = 3\n",
    "\n",
    "# left shift so you get b * 2^x\n",
    "b = 1 << x\n",
    "\n",
    "a = 103\n",
    "setX = a | b         # (1)\n",
    "flipX = a ^ b        # (2)\n",
    "clearX = setX & ~b   # (3)\n",
    "\n",
    "pb(setX)\n",
    "# pb(b)\n",
    "pb(~b)"
   ]
  },
  {
   "cell_type": "markdown",
   "id": "4660d4b4",
   "metadata": {},
   "source": [
    "When you do ~x for some positive x, the following happens: \n",
    "- assume x = 01101 in bits; which is the number 13\n",
    "- you invert the bits of x and it is represented as unsigned: 10010 (in bits) (1)\n",
    "- when python represents this, it is shown as the signed two's complement, which is -0b1110 (2)\n",
    "- Note that in the background, it is still internally as (1), \n",
    "\n",
    "\n",
    "Example: "
   ]
  },
  {
   "cell_type": "code",
   "execution_count": 4,
   "id": "bd1a4060",
   "metadata": {},
   "outputs": [
    {
     "name": "stdout",
     "output_type": "stream",
     "text": [
      "0b1101\n",
      "-0b1110\n",
      "0b11110010\n"
     ]
    }
   ],
   "source": [
    "x = int(\"01101\", 2)\n",
    "pb(x)         # bit representation of x\n",
    "pb(~x)        # (2) signed two's complement\n",
    "pb(~x & 0xFF) # (1) unsigned representation"
   ]
  },
  {
   "cell_type": "markdown",
   "id": "7b0ed701",
   "metadata": {},
   "source": [
    "If we want to look at the the unsigned representation of a number and notably, ~x, we can use: \n",
    "\n",
    "And we can see that the unsigned representation of ~x is \"not x\" in the form we expect\n",
    "\n",
    "Bitmasks: \n",
    "8bit: 0xFF\n",
    "16bit: 0xFFFF\n",
    "32bit: 0xFFFFFFFF\n"
   ]
  },
  {
   "cell_type": "code",
   "execution_count": 10,
   "id": "768c29e6",
   "metadata": {},
   "outputs": [
    {
     "name": "stdout",
     "output_type": "stream",
     "text": [
      "0b11101\n",
      "-0b11110\n",
      "0b11100010\n"
     ]
    }
   ],
   "source": [
    "x = 29\n",
    "pb(x)\n",
    "pb(~x)\n",
    "pb(~x & 0xFF)"
   ]
  },
  {
   "cell_type": "markdown",
   "id": "82df6d63",
   "metadata": {},
   "source": [
    "Is the nth bit set?\n",
    "- use x >> n to bring x to the nth slot at the \"ones\" spot to compare with 1"
   ]
  },
  {
   "cell_type": "code",
   "execution_count": 5,
   "id": "86c4eeef",
   "metadata": {
    "scrolled": true
   },
   "outputs": [
    {
     "name": "stdout",
     "output_type": "stream",
     "text": [
      "0b1011101000111\n",
      "0b10111010001\n",
      "1\n"
     ]
    }
   ],
   "source": [
    "x =  5959\n",
    "pb(x)\n",
    "pb(x>>2)\n",
    "print(x >> 2 & 1)"
   ]
  },
  {
   "cell_type": "markdown",
   "id": "ea180e5c",
   "metadata": {},
   "source": [
    "Is a number divisible by a power of x: \n",
    "x & (powerOfX - 1) == 0\n",
    "\n",
    "Why does this work? \n",
    "- say powerOfX = 10000 \n",
    "- Then powerOfX - 1 = 01111\n",
    "- if x & (powerOfX - 1) == 0 that means x has no 1's to the right of the significant 1 "
   ]
  },
  {
   "cell_type": "code",
   "execution_count": 6,
   "id": "663d18cb",
   "metadata": {},
   "outputs": [
    {
     "name": "stdout",
     "output_type": "stream",
     "text": [
      "0b10000000\n",
      "0b10000\n",
      "True\n"
     ]
    }
   ],
   "source": [
    "x = 128\n",
    "powerOfX = 1<<4\n",
    "pb(x)\n",
    "pb(powerOfX)\n",
    "print(x & (powerOfX - 1) == 0 )"
   ]
  },
  {
   "cell_type": "code",
   "execution_count": 7,
   "id": "9f851771",
   "metadata": {},
   "outputs": [
    {
     "data": {
      "text/plain": [
       "True"
      ]
     },
     "execution_count": 7,
     "metadata": {},
     "output_type": "execute_result"
    }
   ],
   "source": [
    "x & (powerOfX - 1) == 0 "
   ]
  },
  {
   "cell_type": "code",
   "execution_count": null,
   "id": "9424ab61",
   "metadata": {},
   "outputs": [],
   "source": []
  }
 ],
 "metadata": {
  "kernelspec": {
   "display_name": "Python 3 (ipykernel)",
   "language": "python",
   "name": "python3"
  },
  "language_info": {
   "codemirror_mode": {
    "name": "ipython",
    "version": 3
   },
   "file_extension": ".py",
   "mimetype": "text/x-python",
   "name": "python",
   "nbconvert_exporter": "python",
   "pygments_lexer": "ipython3",
   "version": "3.11.5"
  }
 },
 "nbformat": 4,
 "nbformat_minor": 5
}
